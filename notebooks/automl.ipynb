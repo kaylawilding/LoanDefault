{
 "cells": [
  {
   "cell_type": "code",
   "execution_count": null,
   "metadata": {},
   "outputs": [],
   "source": [
    "import os\n",
    "import sys\n",
    "import mlflow\n",
    "import pandas as pd\n",
    "import numpy as np \n",
    "import matplotlib.pyplot as plt\n",
    "import seaborn as sns\n",
    "from scipy.stats import zscore\n",
    "from sklearn.model_selection import train_test_split, GridSearchCV, RandomizedSearchCV, cross_val_score\n",
    "from sklearn.preprocessing import StandardScaler, OneHotEncoder\n",
    "from sklearn.compose import make_column_transformer, make_column_selector\n",
    "from xgboost import XGBClassifier\n",
    "from sklearn.linear_model import LogisticRegression, LogisticRegressionCV\n",
    "from sklearn.model_selection import KFold\n",
    "from sklearn.metrics import accuracy_score\n",
    "from sklearn.metrics import recall_score\n",
    "from sklearn.tree import DecisionTreeClassifier\n",
    "from sklearn.tree import plot_tree\n",
    "import pickle\n",
    "import kaggle\n",
    "import os\n",
    "import shutil\n",
    "import time\n",
    "import uuid\n",
    "\n",
    "from sklearn.calibration import calibration_curve\n",
    "from sklearn.feature_selection import VarianceThreshold\n",
    "from sklearn.impute import SimpleImputer\n",
    "from sklearn.metrics import recall_score\n",
    "from statsmodels.nonparametric.smoothers_lowess import lowess\n",
    "from statsmodels.stats.outliers_influence import variance_inflation_factor\n",
    "\n",
    "%matplotlib inline"
   ]
  },
  {
   "cell_type": "code",
   "execution_count": null,
   "metadata": {},
   "outputs": [],
   "source": [
    "kaggle.api.authenticate()\n",
    "kaggle.api.dataset_download_files('yasserh/loan-default-dataset', path='../backend/data/raw/', unzip=True)\n",
    "loan_df = pd.read_csv('../backend/data/raw//Loan_Default.csv')"
   ]
  },
  {
   "cell_type": "code",
   "execution_count": null,
   "metadata": {},
   "outputs": [],
   "source": [
    "loan_df = loan_df[~loan_df['Gender'].str.contains(\"Not Available\")]"
   ]
  },
  {
   "cell_type": "code",
   "execution_count": null,
   "metadata": {},
   "outputs": [],
   "source": [
    "# All or mostly missing where status = 1\n",
    "loan_df = loan_df.drop(columns=['rate_of_interest', 'Interest_rate_spread', 'Upfront_charges'])\n",
    "dict_na = {\n",
    "    'loan_limit': loan_df['loan_limit'].mode()[0],\n",
    "    'approv_in_adv': loan_df['approv_in_adv'].mode()[0],\n",
    "    'loan_purpose': loan_df['loan_purpose'].mode()[0],\n",
    "    'term': loan_df['term'].mode()[0],\n",
    "    'Neg_ammortization': loan_df['Neg_ammortization'].mode()[0],\n",
    "    'property_value': loan_df['property_value'].mean(),\n",
    "    'income': loan_df['income'].mean(),\n",
    "    'LTV': loan_df['LTV'].mean(),\n",
    "    'dtir1': loan_df['dtir1'].mean()\n",
    "}\n",
    "loan_df = loan_df.fillna(dict_na)\n",
    "assert loan_df.isnull().sum().sum() == 0\n",
    "display(loan_df)"
   ]
  }
 ],
 "metadata": {
  "language_info": {
   "name": "python"
  }
 },
 "nbformat": 4,
 "nbformat_minor": 2
}
