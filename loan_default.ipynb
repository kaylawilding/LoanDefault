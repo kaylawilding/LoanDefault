{
 "cells": [
  {
   "cell_type": "code",
   "execution_count": 1,
   "metadata": {},
   "outputs": [],
   "source": [
    "import pandas as pd\n",
    "import numpy as np \n",
    "import matplotlib.pyplot as plt\n",
    "import seaborn as sns\n",
    "from scipy.stats import zscore\n",
    "from sklearn.model_selection import train_test_split\n",
    "from sklearn.preprocessing import StandardScaler, OneHotEncoder\n",
    "from sklearn.compose import make_column_transformer, make_column_selector\n",
    "\n",
    "from transformode import DataFrameOneHotEncoder \n",
    "\n",
    "%matplotlib inline"
   ]
  },
  {
   "cell_type": "markdown",
   "metadata": {},
   "source": [
    "Import the dataset"
   ]
  },
  {
   "cell_type": "code",
   "execution_count": 2,
   "metadata": {},
   "outputs": [],
   "source": [
    "loan_df = pd.read_csv('Raw Data/Loan_Default.csv')"
   ]
  },
  {
   "cell_type": "code",
   "execution_count": 3,
   "metadata": {},
   "outputs": [
    {
     "name": "stdout",
     "output_type": "stream",
     "text": [
      "<class 'pandas.core.frame.DataFrame'>\n",
      "RangeIndex: 148670 entries, 0 to 148669\n",
      "Data columns (total 34 columns):\n",
      " #   Column                     Non-Null Count   Dtype  \n",
      "---  ------                     --------------   -----  \n",
      " 0   ID                         148670 non-null  int64  \n",
      " 1   year                       148670 non-null  int64  \n",
      " 2   loan_limit                 145326 non-null  object \n",
      " 3   Gender                     148670 non-null  object \n",
      " 4   approv_in_adv              147762 non-null  object \n",
      " 5   loan_type                  148670 non-null  object \n",
      " 6   loan_purpose               148536 non-null  object \n",
      " 7   Credit_Worthiness          148670 non-null  object \n",
      " 8   open_credit                148670 non-null  object \n",
      " 9   business_or_commercial     148670 non-null  object \n",
      " 10  loan_amount                148670 non-null  int64  \n",
      " 11  rate_of_interest           112231 non-null  float64\n",
      " 12  Interest_rate_spread       112031 non-null  float64\n",
      " 13  Upfront_charges            109028 non-null  float64\n",
      " 14  term                       148629 non-null  float64\n",
      " 15  Neg_ammortization          148549 non-null  object \n",
      " 16  interest_only              148670 non-null  object \n",
      " 17  lump_sum_payment           148670 non-null  object \n",
      " 18  property_value             133572 non-null  float64\n",
      " 19  construction_type          148670 non-null  object \n",
      " 20  occupancy_type             148670 non-null  object \n",
      " 21  Secured_by                 148670 non-null  object \n",
      " 22  total_units                148670 non-null  object \n",
      " 23  income                     139520 non-null  float64\n",
      " 24  credit_type                148670 non-null  object \n",
      " 25  Credit_Score               148670 non-null  int64  \n",
      " 26  co-applicant_credit_type   148670 non-null  object \n",
      " 27  age                        148470 non-null  object \n",
      " 28  submission_of_application  148470 non-null  object \n",
      " 29  LTV                        133572 non-null  float64\n",
      " 30  Region                     148670 non-null  object \n",
      " 31  Security_Type              148670 non-null  object \n",
      " 32  Status                     148670 non-null  int64  \n",
      " 33  dtir1                      124549 non-null  float64\n",
      "dtypes: float64(8), int64(5), object(21)\n",
      "memory usage: 38.6+ MB\n"
     ]
    }
   ],
   "source": [
    "#Get details, but also check data types for processing\n",
    "loan_df.info()"
   ]
  },
  {
   "cell_type": "code",
   "execution_count": 4,
   "metadata": {},
   "outputs": [],
   "source": [
    "y = loan_df['Status']\n",
    "loan_df = loan_df.drop(columns=['Status', 'ID'])"
   ]
  },
  {
   "cell_type": "code",
   "execution_count": 5,
   "metadata": {},
   "outputs": [],
   "source": [
    "loan_df['year'] = str(loan_df['year'])\n",
    "cat = loan_df[make_column_selector(dtype_include= object)]\n",
    "dfohe = DataFrameOneHotEncoder()\n",
    "catx = dfohe.fit_transform(cat)"
   ]
  },
  {
   "cell_type": "code",
   "execution_count": 6,
   "metadata": {},
   "outputs": [],
   "source": [
    "numdf = loan_df[make_column_selector(dtype_include= np.number)]\n",
    "ss = StandardScaler()\n",
    "numx = pd.DataFrame(ss.fit_transform(numdf), columns=numdf.columns)"
   ]
  },
  {
   "cell_type": "markdown",
   "metadata": {},
   "source": [
    "transformer = make_column_transformer(\n",
    "                (StandardScaler(), make_column_selector(dtype_include = np.number)),\n",
    "                (DataFrameOneHotEncoder(), make_column_selector(dtype_include = object)))\n",
    "X = transformer.fit_transform(loan_df)\n"
   ]
  },
  {
   "cell_type": "code",
   "execution_count": 7,
   "metadata": {},
   "outputs": [],
   "source": [
    "X = numx.join(catx)"
   ]
  },
  {
   "cell_type": "code",
   "execution_count": 8,
   "metadata": {},
   "outputs": [
    {
     "data": {
      "text/plain": [
       "loan_amount                 0\n",
       "rate_of_interest        36439\n",
       "Interest_rate_spread    36639\n",
       "Upfront_charges         39642\n",
       "term                       41\n",
       "property_value          15098\n",
       "income                   9150\n",
       "Credit_Score                0\n",
       "LTV                     15098\n",
       "dtir1                   24121\n",
       "dtype: int64"
      ]
     },
     "execution_count": 8,
     "metadata": {},
     "output_type": "execute_result"
    }
   ],
   "source": [
    "numx.isna().sum()"
   ]
  },
  {
   "cell_type": "code",
   "execution_count": 8,
   "metadata": {},
   "outputs": [],
   "source": [
    "missing_cols = ['rate_of_interest', 'Interest_rate_spread', 'Upfront_charges', 'term', 'property_value', 'income', 'LTV', 'dtir1']\n",
    "X = X.fillna(value =0)"
   ]
  },
  {
   "cell_type": "code",
   "execution_count": 9,
   "metadata": {},
   "outputs": [],
   "source": [
    "train_X, test_X, train_y, test_y = train_test_split(X, y, test_size = 0.2)"
   ]
  },
  {
   "cell_type": "markdown",
   "metadata": {},
   "source": [
    "Logistic Regression"
   ]
  },
  {
   "cell_type": "code",
   "execution_count": 35,
   "metadata": {},
   "outputs": [
    {
     "name": "stdout",
     "output_type": "stream",
     "text": [
      "The max score is 0.8729737001412524 and the max c is 1 with test size of 0.2\n",
      "The max recall is 0.509366391184573 and the max c is 1 with test size of 0.2\n"
     ]
    }
   ],
   "source": [
    "from sklearn.linear_model import LogisticRegression\n",
    "from sklearn.model_selection import KFold\n",
    "from sklearn.metrics import accuracy_score\n",
    "from sklearn.metrics import recall_score\n",
    "\n",
    "#the grid of parameters to search over\n",
    "Cs = [0.001, 0.1, 1, 10, 100]\n",
    "\n",
    "max_score = 0\n",
    "max_c = 0\n",
    "max_test_sizes = 0\n",
    "max_recall = 0\n",
    "max_c_r = 0\n",
    "max_test_sizes_r = 0\n",
    "\n",
    "for c in Cs:\n",
    "    clf = LogisticRegression(C = c, max_iter=1000)\n",
    "    for test_sizes in [.2,.3,.4,.5,.6,.7,.8]:\n",
    "        train_X, test_X, train_y, test_y = train_test_split(X, y, test_size = test_sizes)\n",
    "        clf.fit(train_X, train_y)\n",
    "        score = accuracy_score(clf.predict(test_X), test_y)\n",
    "        if score >= max_score:\n",
    "            max_score = score\n",
    "            max_c = c\n",
    "            max_test_sizes = test_sizes\n",
    "        recall = recall_score(test_y  , clf.predict(test_X))\n",
    "        if recall >= max_recall:\n",
    "            max_recall = recall\n",
    "            max_c_r = c\n",
    "            max_test_sizes_r = test_sizes\n",
    "print('The max score is', max_score, 'and the max c is', max_c, 'with test size of', max_test_sizes)\n",
    "print('The max recall is', max_recall, 'and the max c is', max_c, 'with test size of', max_test_sizes)"
   ]
  },
  {
   "cell_type": "code",
   "execution_count": 16,
   "metadata": {},
   "outputs": [],
   "source": [
    "y_logpred = clf.predict(test_X)"
   ]
  },
  {
   "cell_type": "code",
   "execution_count": 39,
   "metadata": {},
   "outputs": [
    {
     "name": "stdout",
     "output_type": "stream",
     "text": [
      "The max score is 0.869442389184099 and the max d is 3\n",
      "The max recall is 0.5063364447775431 and the max d is 3\n"
     ]
    }
   ],
   "source": [
    "#Tree\n",
    "from sklearn.tree import DecisionTreeClassifier\n",
    "\n",
    "max_score = 0\n",
    "max_d = 0\n",
    "max_test_sizes = 0\n",
    "max_recall = 0\n",
    "max_d_r = 0\n",
    "max_test_sizes_r = 0\n",
    "\n",
    "for d in np.arange(3,15):\n",
    "    tree = DecisionTreeClassifier(max_depth = d)\n",
    "    tree  = clf.fit(train_X,train_y)\n",
    "    score = accuracy_score(tree.predict(test_X), test_y)\n",
    "    if score > max_score:\n",
    "        max_score = score\n",
    "        max_d = d\n",
    "        max_test_sizes = test_sizes\n",
    "    recall = recall_score(test_y  , clf.predict(test_X))\n",
    "    if recall > max_recall:\n",
    "        max_recall = recall\n",
    "        max_d_r = d\n",
    "        max_test_sizes_r = test_sizes\n",
    "print('The max score is', max_score, 'and the max d is', max_d)\n",
    "print('The max recall is', max_recall, 'and the max d is', max_d_r)\n"
   ]
  }
 ],
 "metadata": {
  "kernelspec": {
   "display_name": "Python 3.10.8 ('capstone')",
   "language": "python",
   "name": "python3"
  },
  "language_info": {
   "codemirror_mode": {
    "name": "ipython",
    "version": 3
   },
   "file_extension": ".py",
   "mimetype": "text/x-python",
   "name": "python",
   "nbconvert_exporter": "python",
   "pygments_lexer": "ipython3",
   "version": "3.10.8"
  },
  "orig_nbformat": 4,
  "vscode": {
   "interpreter": {
    "hash": "f58c8666df6d98d75d0dc4ea8016d5e82eb5ad19e6e0a6b5c6df5035a9d16671"
   }
  }
 },
 "nbformat": 4,
 "nbformat_minor": 2
}
