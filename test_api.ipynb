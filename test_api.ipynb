{
 "cells": [
  {
   "cell_type": "code",
   "execution_count": 20,
   "metadata": {},
   "outputs": [],
   "source": [
    "import numpy as np\n",
    "import requests\n",
    "import json\n",
    "import pandas as pd\n",
    "from sklearn.model_selection import train_test_split\n",
    "from sklearn.metrics import accuracy_score"
   ]
  },
  {
   "cell_type": "code",
   "execution_count": 13,
   "metadata": {},
   "outputs": [],
   "source": [
    "# Load data\n",
    "df_test_X =pd.read_csv('./testX.csv')\n",
    "\n",
    "X_test = df_test_X.to_numpy()"
   ]
  },
  {
   "cell_type": "code",
   "execution_count": 16,
   "metadata": {},
   "outputs": [],
   "source": [
    "# Serialize the data into json and send the request to the model\n",
    "payload = {'data': json.dumps(X_test.tolist())}\n",
    "y_predict = requests.post('http://127.0.0.1:5000/loandefault', json=payload).json()"
   ]
  },
  {
   "cell_type": "code",
   "execution_count": 21,
   "metadata": {},
   "outputs": [
    {
     "name": "stdout",
     "output_type": "stream",
     "text": [
      "       0\n",
      "0      0\n",
      "1      0\n",
      "2      0\n",
      "3      0\n",
      "4      1\n",
      "...   ..\n",
      "29729  0\n",
      "29730  0\n",
      "29731  1\n",
      "29732  0\n",
      "29733  0\n",
      "\n",
      "[29734 rows x 1 columns]\n"
     ]
    }
   ],
   "source": [
    "y_predict = np.array(y_predict)\n",
    "y_predict = pd.DataFrame(y_predict)\n",
    "print(y_predict)"
   ]
  },
  {
   "cell_type": "code",
   "execution_count": 30,
   "metadata": {},
   "outputs": [],
   "source": [
    "test_y = pd.read_csv('./testy.csv')\n",
    "test_y = pd.DataFrame(test_y['Status'])"
   ]
  },
  {
   "cell_type": "code",
   "execution_count": 31,
   "metadata": {},
   "outputs": [
    {
     "name": "stdout",
     "output_type": "stream",
     "text": [
      "Accuracy: 90.68%\n"
     ]
    }
   ],
   "source": [
    "accuracy = accuracy_score(test_y, y_predict)\n",
    "print(\"Accuracy: %.2f%%\" % (accuracy * 100.0))"
   ]
  }
 ],
 "metadata": {
  "kernelspec": {
   "display_name": "Python 3.10.8 ('capstone')",
   "language": "python",
   "name": "python3"
  },
  "language_info": {
   "codemirror_mode": {
    "name": "ipython",
    "version": 3
   },
   "file_extension": ".py",
   "mimetype": "text/x-python",
   "name": "python",
   "nbconvert_exporter": "python",
   "pygments_lexer": "ipython3",
   "version": "3.10.8"
  },
  "orig_nbformat": 4,
  "vscode": {
   "interpreter": {
    "hash": "f58c8666df6d98d75d0dc4ea8016d5e82eb5ad19e6e0a6b5c6df5035a9d16671"
   }
  }
 },
 "nbformat": 4,
 "nbformat_minor": 2
}
